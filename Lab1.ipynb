{
  "nbformat": 4,
  "nbformat_minor": 0,
  "metadata": {
    "colab": {
      "name": "Welcome To Colaboratory",
      "provenance": [],
      "collapsed_sections": [],
      "toc_visible": true,
      "include_colab_link": true
    },
    "kernelspec": {
      "display_name": "Python 3",
      "name": "python3"
    }
  },
  "cells": [
    {
      "cell_type": "markdown",
      "metadata": {
        "id": "view-in-github",
        "colab_type": "text"
      },
      "source": [
        "<a href=\"https://colab.research.google.com/github/markcarlodeocariza/CPEN-21A-ECE-2-1/blob/main/Lab1.ipynb\" target=\"_parent\"><img src=\"https://colab.research.google.com/assets/colab-badge.svg\" alt=\"Open In Colab\"/></a>"
      ]
    },
    {
      "cell_type": "markdown",
      "metadata": {
        "id": "4m1FuQ2Vr7Xz"
      },
      "source": [
        "#Laboratory 1"
      ]
    },
    {
      "cell_type": "code",
      "metadata": {
        "id": "bN3JNCo-sOQJ",
        "outputId": "43300485-70c2-4ab3-907c-0f8c625cd9bb",
        "colab": {
          "base_uri": "https://localhost:8080/"
        }
      },
      "source": [
        "a=\"Welcome to Python Programming \"\n",
        "name=\"Name:Mark Carlo O. Deocariza\"\n",
        "address=\"Address:Block 5, Lot 16, Section 21, Phase 2 Pabahay 2000, Bagtas, Tanza, Cavite\"\n",
        "age=\"Age:19 years old\"\n",
        "print(a)\n",
        "print(name)\n",
        "print(address)\n",
        "print(age)"
      ],
      "execution_count": 28,
      "outputs": [
        {
          "output_type": "stream",
          "name": "stdout",
          "text": [
            "Welcome to Python Programming \n",
            "Name:Mark Carlo O. Deocariza\n",
            "Address:Block 5, Lot 16, Section 21, Phase 2 Pabahay 2000, Bagtas, Tanza, Cavite\n",
            "Age:19 years old\n"
          ]
        }
      ]
    }
  ]
}