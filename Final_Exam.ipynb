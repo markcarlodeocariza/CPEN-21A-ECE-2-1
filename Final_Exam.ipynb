{
  "nbformat": 4,
  "nbformat_minor": 0,
  "metadata": {
    "colab": {
      "name": "Final Exam.ipynb",
      "provenance": [],
      "collapsed_sections": [],
      "authorship_tag": "ABX9TyOdXhPS7EpK0JM89mDB766T",
      "include_colab_link": true
    },
    "kernelspec": {
      "name": "python3",
      "display_name": "Python 3"
    },
    "language_info": {
      "name": "python"
    }
  },
  "cells": [
    {
      "cell_type": "markdown",
      "metadata": {
        "id": "view-in-github",
        "colab_type": "text"
      },
      "source": [
        "<a href=\"https://colab.research.google.com/github/markcarlodeocariza/CPEN-21A-ECE-2-1/blob/main/Final_Exam.ipynb\" target=\"_parent\"><img src=\"https://colab.research.google.com/assets/colab-badge.svg\" alt=\"Open In Colab\"/></a>"
      ]
    },
    {
      "cell_type": "markdown",
      "source": [
        "###Problem Statement 1"
      ],
      "metadata": {
        "id": "eX5dBX01cXLs"
      }
    },
    {
      "cell_type": "code",
      "execution_count": null,
      "metadata": {
        "colab": {
          "base_uri": "https://localhost:8080/"
        },
        "id": "BXP3uxC4UkqG",
        "outputId": "6c43db54-975b-4eb8-ae73-64b17d24d2f4"
      },
      "outputs": [
        {
          "output_type": "stream",
          "name": "stdout",
          "text": [
            "Enter number:1\n",
            "Enter number:2\n",
            "Enter number:3\n",
            "Enter number:4\n",
            "Enter number:5\n",
            "Enter number:5\n",
            "Enter number:3\n",
            "Enter number:4\n",
            "Enter number:2\n",
            "Enter number:1\n",
            "[1, 2, 3, 4, 5, 5, 3, 4, 2, 1]\n",
            "The summation of all numbers that are less than 5= 20\n"
          ]
        }
      ],
      "source": [
        "n=[]\n",
        "x=0\n",
        "for x in range(1,11):\n",
        "  while True:\n",
        "    y=float(input(\"Enter number:\"))\n",
        "    if y<5:\n",
        "     break\n",
        "    else:\n",
        "     print(\"Please input numbers that are less than 5\")\n",
        "  n.append(y)\n",
        "  x=x+1\n",
        "\n",
        "x=0\n",
        "summation=0\n",
        "print(\"The numbers you have entered are:\",n)\n",
        "print(\"\")\n",
        "for x in n:\n",
        "  if x<5:\n",
        "    summation=summation+x\n",
        "print(\"The summation of all numbers that are less than 5 are equals to\",summation)"
      ]
    },
    {
      "cell_type": "markdown",
      "source": [
        "###Problem Statement 2"
      ],
      "metadata": {
        "id": "4PqZvFUVcXsv"
      }
    },
    {
      "cell_type": "code",
      "source": [
        "n=1;\n",
        "data={};\n",
        "while(n <=5):\n",
        "  i = str(n);\n",
        "  data[n] = input(\"Enter Number:\")\n",
        "  print(\"Value for Number \"+ i +\" is \"+ data[n])\n",
        "  n+=1\n",
        "  if(n==6):\n",
        "    sum=float(data[1])+float(data[5])\n",
        "print(\"The sum of the first and last number is: \" + str(sum))"
      ],
      "metadata": {
        "colab": {
          "base_uri": "https://localhost:8080/"
        },
        "id": "21lOxgOKcYG7",
        "outputId": "65414882-1c56-4304-82f6-81ce41d9b3ef"
      },
      "execution_count": null,
      "outputs": [
        {
          "output_type": "stream",
          "name": "stdout",
          "text": [
            "Enter Number:1\n",
            "Value for Number 1 is 1\n",
            "Enter Number:3\n",
            "Value for Number 2 is 3\n",
            "Enter Number:5\n",
            "Value for Number 3 is 5\n",
            "Enter Number:2\n",
            "Value for Number 4 is 2\n",
            "Enter Number:3\n",
            "Value for Number 5 is 3\n",
            "The sum of the first and last number is: 4.0\n"
          ]
        }
      ]
    },
    {
      "cell_type": "markdown",
      "source": [
        "###Problem Statement 3"
      ],
      "metadata": {
        "id": "ry6yQccUcYlc"
      }
    },
    {
      "cell_type": "code",
      "source": [
        "grade=float(input(\"Enter your grade:\"))\n",
        "if grade >=90:print(\"A\")\n",
        "else:\n",
        "    if grade >=80:print(\"B\")\n",
        "    elif grade >=70:print(\"C\")\n",
        "    elif grade >=60:print(\"D\")\n",
        "    else:print(\"F\")"
      ],
      "metadata": {
        "colab": {
          "base_uri": "https://localhost:8080/"
        },
        "id": "i73HcyNpcY73",
        "outputId": "544b6252-05af-4c48-a2e1-41121ad098fe"
      },
      "execution_count": null,
      "outputs": [
        {
          "output_type": "stream",
          "name": "stdout",
          "text": [
            "Enter your grade:99\n",
            "A\n"
          ]
        }
      ]
    }
  ]
}