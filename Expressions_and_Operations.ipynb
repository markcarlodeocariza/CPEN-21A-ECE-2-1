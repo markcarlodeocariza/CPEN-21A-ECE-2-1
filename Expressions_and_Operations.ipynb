{
  "nbformat": 4,
  "nbformat_minor": 0,
  "metadata": {
    "colab": {
      "name": "Expressions and Operations",
      "provenance": [],
      "authorship_tag": "ABX9TyNla7fX8d1/d0a5I+/jN+Ry",
      "include_colab_link": true
    },
    "kernelspec": {
      "name": "python3",
      "display_name": "Python 3"
    },
    "language_info": {
      "name": "python"
    }
  },
  "cells": [
    {
      "cell_type": "markdown",
      "metadata": {
        "id": "view-in-github",
        "colab_type": "text"
      },
      "source": [
        "<a href=\"https://colab.research.google.com/github/markcarlodeocariza/CPEN-21A-ECE-2-1/blob/main/Expressions_and_Operations.ipynb\" target=\"_parent\"><img src=\"https://colab.research.google.com/assets/colab-badge.svg\" alt=\"Open In Colab\"/></a>"
      ]
    },
    {
      "cell_type": "markdown",
      "metadata": {
        "id": "G7iu9rLVIp0U"
      },
      "source": [
        "##Boolean Operator"
      ]
    },
    {
      "cell_type": "code",
      "metadata": {
        "colab": {
          "base_uri": "https://localhost:8080/"
        },
        "id": "XDN5Ail6Istp",
        "outputId": "c661725c-7643-476a-9dfe-610ebd8d66b4"
      },
      "source": [
        "x=1\n",
        "y=2\n",
        "\n",
        "y"
      ],
      "execution_count": 1,
      "outputs": [
        {
          "output_type": "execute_result",
          "data": {
            "text/plain": [
              "2"
            ]
          },
          "metadata": {},
          "execution_count": 1
        }
      ]
    },
    {
      "cell_type": "code",
      "metadata": {
        "id": "LhM7Xj5uJnjN"
      },
      "source": [
        ""
      ],
      "execution_count": null,
      "outputs": []
    },
    {
      "cell_type": "code",
      "metadata": {
        "id": "i3Wdu5reKo7b"
      },
      "source": [
        ""
      ],
      "execution_count": null,
      "outputs": []
    },
    {
      "cell_type": "code",
      "metadata": {
        "colab": {
          "base_uri": "https://localhost:8080/"
        },
        "id": "d3mXTKFLI2Ze",
        "outputId": "d8471964-4f69-46ed-98d9-bbe87caaf810"
      },
      "source": [
        "x=1\n",
        "y=2\n",
        "\n",
        "print(y)"
      ],
      "execution_count": 2,
      "outputs": [
        {
          "output_type": "stream",
          "name": "stdout",
          "text": [
            "2\n"
          ]
        }
      ]
    },
    {
      "cell_type": "code",
      "metadata": {
        "colab": {
          "base_uri": "https://localhost:8080/"
        },
        "id": "-jlM8EH0I_i7",
        "outputId": "c7f04c7b-46f5-4654-dc0a-d93899944155"
      },
      "source": [
        "x=1\n",
        "y=2\n",
        "\n",
        "print(x>y)\n",
        "print(10>11)\n",
        "print(10==10)\n",
        "print(10!=11)"
      ],
      "execution_count": 5,
      "outputs": [
        {
          "output_type": "stream",
          "name": "stdout",
          "text": [
            "False\n",
            "False\n",
            "True\n",
            "True\n"
          ]
        }
      ]
    },
    {
      "cell_type": "code",
      "metadata": {
        "colab": {
          "base_uri": "https://localhost:8080/"
        },
        "id": "mRqnwHSvJfai",
        "outputId": "f1e7cc86-a3e3-451e-eb43-5dbf0960c7e9"
      },
      "source": [
        "#using bool() function\n",
        "\n",
        "print(bool(\"Hello\"))\n",
        "print(bool(15))\n",
        "print(bool(1))\n",
        "print(bool(True))\n",
        "print(bool(False))\n",
        "print(bool(None))\n",
        "print(bool(0))\n",
        "print(bool([]))"
      ],
      "execution_count": 7,
      "outputs": [
        {
          "output_type": "stream",
          "name": "stdout",
          "text": [
            "True\n",
            "True\n",
            "True\n",
            "True\n",
            "False\n",
            "False\n",
            "False\n",
            "False\n"
          ]
        }
      ]
    },
    {
      "cell_type": "markdown",
      "metadata": {
        "id": "x4sbxX53Kfx1"
      },
      "source": [
        "##Functions can return Boolean"
      ]
    },
    {
      "cell_type": "code",
      "metadata": {
        "id": "t82Rb6huKqo8",
        "outputId": "3a0719a4-4c9d-4a5b-f4af-4320784f398d",
        "colab": {
          "base_uri": "https://localhost:8080/"
        }
      },
      "source": [
        "def myFunction(): return True\n",
        "print(myFunction())"
      ],
      "execution_count": 8,
      "outputs": [
        {
          "output_type": "stream",
          "name": "stdout",
          "text": [
            "True\n"
          ]
        }
      ]
    },
    {
      "cell_type": "code",
      "metadata": {
        "id": "hbYWJEzTK4KK",
        "outputId": "6d1895a2-fa93-400a-cd1e-ae336f664505",
        "colab": {
          "base_uri": "https://localhost:8080/"
        }
      },
      "source": [
        "def myFunction(): return False\n",
        "print(myFunction())"
      ],
      "execution_count": 9,
      "outputs": [
        {
          "output_type": "stream",
          "name": "stdout",
          "text": [
            "False\n"
          ]
        }
      ]
    },
    {
      "cell_type": "code",
      "metadata": {
        "id": "05ksBGGFLFAn",
        "outputId": "28834c1f-0576-4015-c87f-d5f96873c96e",
        "colab": {
          "base_uri": "https://localhost:8080/"
        }
      },
      "source": [
        "def yourFunction(): return True\n",
        "if yourFunction():\n",
        "  print(\"Yes!\")\n",
        "else:\n",
        "  print(\"No!\")"
      ],
      "execution_count": 10,
      "outputs": [
        {
          "output_type": "stream",
          "name": "stdout",
          "text": [
            "Yes!\n"
          ]
        }
      ]
    },
    {
      "cell_type": "code",
      "metadata": {
        "id": "O2RU6kayLXFr",
        "outputId": "981d6dee-837c-48e2-d2d9-26be573c0e00",
        "colab": {
          "base_uri": "https://localhost:8080/"
        }
      },
      "source": [
        "def yourFunction(): return False\n",
        "if yourFunction():\n",
        "  print(\"Yes!\")\n",
        "else:\n",
        "  print(\"No!\")"
      ],
      "execution_count": 11,
      "outputs": [
        {
          "output_type": "stream",
          "name": "stdout",
          "text": [
            "No!\n"
          ]
        }
      ]
    },
    {
      "cell_type": "markdown",
      "metadata": {
        "id": "L0AMQmU-LqFH"
      },
      "source": [
        "##You Try!"
      ]
    },
    {
      "cell_type": "code",
      "metadata": {
        "id": "U8jUNdtvLs32",
        "outputId": "2c7083ad-b36e-410b-ff86-1ea760fc9ac1",
        "colab": {
          "base_uri": "https://localhost:8080/"
        }
      },
      "source": [
        "print(10>9)\n",
        "a=6\n",
        "b=7\n",
        "\n",
        "print(a==b)\n",
        "print(a!=a)"
      ],
      "execution_count": 13,
      "outputs": [
        {
          "output_type": "stream",
          "name": "stdout",
          "text": [
            "True\n",
            "False\n",
            "False\n"
          ]
        }
      ]
    },
    {
      "cell_type": "markdown",
      "metadata": {
        "id": "mna0q7vtMQcj"
      },
      "source": [
        "##Arithmetic Operators"
      ]
    },
    {
      "cell_type": "code",
      "metadata": {
        "id": "p0LDjHeHMTtF",
        "outputId": "e04c01c1-5b83-44ee-bf9a-a0b3d8ea71fe",
        "colab": {
          "base_uri": "https://localhost:8080/"
        }
      },
      "source": [
        "print(10+5)\n",
        "print(10-5)\n",
        "print(10*5)\n",
        "print(10/5)\n",
        "print(10%5) #modulo division, remainder\n",
        "print(10//5) #floor division\n",
        "print(10//3) #floor division\n",
        "print(10%3) #3x3=9+1"
      ],
      "execution_count": 14,
      "outputs": [
        {
          "output_type": "stream",
          "name": "stdout",
          "text": [
            "15\n",
            "5\n",
            "50\n",
            "2.0\n",
            "0\n",
            "2\n",
            "3\n",
            "1\n"
          ]
        }
      ]
    },
    {
      "cell_type": "markdown",
      "metadata": {
        "id": "TuTPQa1oM8CT"
      },
      "source": [
        "##Bitwise Operators"
      ]
    },
    {
      "cell_type": "code",
      "metadata": {
        "id": "ecizXZZhM_Ir",
        "outputId": "fb7ae0c9-6f44-47a8-c2fd-b4ef698e4268",
        "colab": {
          "base_uri": "https://localhost:8080/"
        }
      },
      "source": [
        "a=60 # 0011 1100\n",
        "b=13 # 0000 1101\n",
        "\n",
        "print(a&b)\n",
        "print(a|b)\n",
        "print(a^b)\n",
        "print(~a)\n",
        "print(a<<1) #0111 1000\n",
        "print(a<<2) #1111 0000\n",
        "print(b>>1) #1 0000 0110\n",
        "print(b>>2) #0000 0011"
      ],
      "execution_count": 15,
      "outputs": [
        {
          "output_type": "stream",
          "name": "stdout",
          "text": [
            "12\n",
            "61\n",
            "49\n",
            "-61\n",
            "120\n",
            "240\n",
            "6\n",
            "3\n"
          ]
        }
      ]
    },
    {
      "cell_type": "markdown",
      "metadata": {
        "id": "AaWBrZnvN4jy"
      },
      "source": [
        "##Python Assignment Operators\n"
      ]
    },
    {
      "cell_type": "code",
      "metadata": {
        "id": "Xeyc2KGaN-49",
        "outputId": "f578c8dc-51d4-44a5-a040-6683eecb5736",
        "colab": {
          "base_uri": "https://localhost:8080/"
        }
      },
      "source": [
        "a+=3 #Same As a=a+3\n",
        "     #Same As a=60+3, a=63\n",
        "print(a)"
      ],
      "execution_count": 36,
      "outputs": [
        {
          "output_type": "stream",
          "name": "stdout",
          "text": [
            "63\n"
          ]
        }
      ]
    },
    {
      "cell_type": "markdown",
      "metadata": {
        "id": "sTbTQt7zOlJ8"
      },
      "source": [
        "##Logical Operators"
      ]
    },
    {
      "cell_type": "code",
      "metadata": {
        "id": "BXvRN9vBOqhu",
        "outputId": "7d2459a5-8406-440f-ce60-2f03ef36e02e",
        "colab": {
          "base_uri": "https://localhost:8080/"
        }
      },
      "source": [
        "#and logical operator\n",
        "\n",
        "a=True\n",
        "b=False\n",
        "print(a and b)\n",
        "print(not(a and b))\n",
        "print(a or b)\n",
        "print(not(a or b))"
      ],
      "execution_count": 37,
      "outputs": [
        {
          "output_type": "stream",
          "name": "stdout",
          "text": [
            "False\n",
            "True\n",
            "True\n",
            "False\n"
          ]
        }
      ]
    },
    {
      "cell_type": "code",
      "metadata": {
        "id": "8CCovmN6PAeO",
        "outputId": "e7f829e3-83b6-41c2-82d7-d54f86216850",
        "colab": {
          "base_uri": "https://localhost:8080/"
        }
      },
      "source": [
        "print(a is b)\n",
        "print(a is not b)"
      ],
      "execution_count": 39,
      "outputs": [
        {
          "output_type": "stream",
          "name": "stdout",
          "text": [
            "False\n",
            "True\n"
          ]
        }
      ]
    }
  ]
}