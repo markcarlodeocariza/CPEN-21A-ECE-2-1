{
  "nbformat": 4,
  "nbformat_minor": 0,
  "metadata": {
    "colab": {
      "name": "Welcome To Colaboratory",
      "provenance": [],
      "collapsed_sections": [],
      "include_colab_link": true
    },
    "kernelspec": {
      "display_name": "Python 3",
      "name": "python3"
    }
  },
  "cells": [
    {
      "cell_type": "markdown",
      "metadata": {
        "id": "view-in-github",
        "colab_type": "text"
      },
      "source": [
        "<a href=\"https://colab.research.google.com/github/markcarlodeocariza/CPEN-21A-ECE-2-1/blob/main/tunay.ipynb\" target=\"_parent\"><img src=\"https://colab.research.google.com/assets/colab-badge.svg\" alt=\"Open In Colab\"/></a>"
      ]
    },
    {
      "cell_type": "markdown",
      "metadata": {
        "id": "hvLduMfZN1JJ"
      },
      "source": [
        "#Intro to Python Language"
      ]
    },
    {
      "cell_type": "markdown",
      "metadata": {
        "id": "RzgFDyqJOeND"
      },
      "source": [
        "#Python Indention"
      ]
    },
    {
      "cell_type": "code",
      "metadata": {
        "colab": {
          "base_uri": "https://localhost:8080/"
        },
        "id": "kZj0BwjROh6R",
        "outputId": "faac7a7f-082f-44a9-9a60-7a4c10d8b7c0"
      },
      "source": [
        "if 5>2:\n",
        " print(\"Five is greater than 2!\")"
      ],
      "execution_count": 5,
      "outputs": [
        {
          "output_type": "stream",
          "name": "stdout",
          "text": [
            "Five is greater than 2!\n"
          ]
        }
      ]
    },
    {
      "cell_type": "markdown",
      "metadata": {
        "id": "GvMLdASzPGJD"
      },
      "source": [
        "#Python Comments"
      ]
    },
    {
      "cell_type": "code",
      "metadata": {
        "colab": {
          "base_uri": "https://localhost:8080/"
        },
        "id": "xfNcTmdLPJts",
        "outputId": "8b7a7919-d8de-4009-cd97-53cae3d75f83"
      },
      "source": [
        "#This is a comment\n",
        "print(\"hello, world\")"
      ],
      "execution_count": 8,
      "outputs": [
        {
          "output_type": "stream",
          "name": "stdout",
          "text": [
            "hello, world\n"
          ]
        }
      ]
    },
    {
      "cell_type": "markdown",
      "metadata": {
        "id": "1U4NxajfPjn3"
      },
      "source": [
        "#Python Variable"
      ]
    },
    {
      "cell_type": "code",
      "metadata": {
        "colab": {
          "base_uri": "https://localhost:8080/"
        },
        "id": "jccFI-1fQk76",
        "outputId": "99ac9794-3848-4735-84d2-155b2f1f781d"
      },
      "source": [
        "x=1\n",
        "a,b=0,-1\n",
        "a,b,c=0,-1,2\n",
        "print(x)\n",
        "print(a)\n",
        "print(b)\n",
        "print(c)"
      ],
      "execution_count": 10,
      "outputs": [
        {
          "output_type": "stream",
          "name": "stdout",
          "text": [
            "1\n",
            "0\n",
            "-1\n",
            "2\n"
          ]
        }
      ]
    },
    {
      "cell_type": "markdown",
      "metadata": {
        "id": "3s0uiVldRS2O"
      },
      "source": [
        "#Case Sensitive"
      ]
    },
    {
      "cell_type": "code",
      "metadata": {
        "colab": {
          "base_uri": "https://localhost:8080/"
        },
        "id": "tVr0XsVkRZE9",
        "outputId": "3032a65b-4543-4180-a6a3-05bc1f25c879"
      },
      "source": [
        "a=4\n",
        "A=\"Sally\"\n",
        "#A will not overwrite a\n",
        "print(a)"
      ],
      "execution_count": 13,
      "outputs": [
        {
          "output_type": "stream",
          "name": "stdout",
          "text": [
            "4\n"
          ]
        }
      ]
    },
    {
      "cell_type": "markdown",
      "metadata": {
        "id": "CzjjCIj9RucF"
      },
      "source": [
        "#Multiple Variable"
      ]
    },
    {
      "cell_type": "code",
      "metadata": {
        "colab": {
          "base_uri": "https://localhost:8080/"
        },
        "id": "qpwW4ShCRxUr",
        "outputId": "018d6f8b-6547-447a-9f5c-e6805e9ddc40"
      },
      "source": [
        "\n",
        "x, y, z = \"one\", \"two\", \"three\"\n",
        "print(x)\n",
        "print(y)\n",
        "print(z)"
      ],
      "execution_count": 15,
      "outputs": [
        {
          "output_type": "stream",
          "name": "stdout",
          "text": [
            "one\n",
            "two\n",
            "three\n"
          ]
        }
      ]
    }
  ]
}