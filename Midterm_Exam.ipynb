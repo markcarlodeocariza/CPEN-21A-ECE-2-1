{
  "nbformat": 4,
  "nbformat_minor": 0,
  "metadata": {
    "colab": {
      "name": "Midterm Exam.ipynb",
      "provenance": [],
      "authorship_tag": "ABX9TyNETo5e+28W79P1YA66QeAs",
      "include_colab_link": true
    },
    "kernelspec": {
      "name": "python3",
      "display_name": "Python 3"
    },
    "language_info": {
      "name": "python"
    }
  },
  "cells": [
    {
      "cell_type": "markdown",
      "metadata": {
        "id": "view-in-github",
        "colab_type": "text"
      },
      "source": [
        "<a href=\"https://colab.research.google.com/github/markcarlodeocariza/CPEN-21A-ECE-2-1/blob/main/Midterm_Exam.ipynb\" target=\"_parent\"><img src=\"https://colab.research.google.com/assets/colab-badge.svg\" alt=\"Open In Colab\"/></a>"
      ]
    },
    {
      "cell_type": "markdown",
      "metadata": {
        "id": "l8jyNqta13YA"
      },
      "source": [
        "##Midterm Exam"
      ]
    },
    {
      "cell_type": "markdown",
      "metadata": {
        "id": "aE0KWfHm35eP"
      },
      "source": [
        "##Problem  Statement 1"
      ]
    },
    {
      "cell_type": "code",
      "metadata": {
        "colab": {
          "base_uri": "https://localhost:8080/"
        },
        "id": "K4NxTfCY197s",
        "outputId": "79689456-c71d-476c-9fbd-f9a9bfd785a6"
      },
      "source": [
        "a= \"Mark Carlo O. Deocariza\"\n",
        "b= \"202013781\"\n",
        "c= \"19 years old\"\n",
        "d= \"May 1, 2002\"\n",
        "e= \"Block 5 Lot 16 Section 21 Phase 2 Pabahay 2000 Bagtas Tanza Cavite\"\n",
        "f= \"Bachelor of Science in Electronics and Communications Engineering\"\n",
        "g= \"1.33\"\n",
        "\n",
        "print(a)\n",
        "print(b)\n",
        "print(c)\n",
        "print(d)\n",
        "print(e)\n",
        "print(f)\n",
        "print(g)"
      ],
      "execution_count": 1,
      "outputs": [
        {
          "output_type": "stream",
          "name": "stdout",
          "text": [
            "Mark Carlo O. Deocariza\n",
            "202013781\n",
            "19 years old\n",
            "May 1, 2002\n",
            "Block 5 Lot 16 Section 21 Phase 2 Pabahay 2000 Bagtas Tanza Cavite\n",
            "Bachelor of Science in Electronics and Communications Engineering\n",
            "1.33\n"
          ]
        }
      ]
    },
    {
      "cell_type": "markdown",
      "metadata": {
        "id": "pXSSSogh3_94"
      },
      "source": [
        "##Problem Statement 2"
      ]
    },
    {
      "cell_type": "code",
      "metadata": {
        "colab": {
          "base_uri": "https://localhost:8080/"
        },
        "id": "JJNlW4ywEGwd",
        "outputId": "1688625d-8ea4-4ff9-ef63-ecdd05a86678"
      },
      "source": [
        "n=4\n",
        "answ=\"Y\"\n",
        "\n",
        "a= (2<n) and (n<6)\n",
        "print(a)\n",
        "b= (2<n) or (n==6)\n",
        "print(b)\n",
        "c= not(2<n) or (n==6)\n",
        "print(c)\n",
        "d= not(n<6)\n",
        "print(d)\n",
        "e= (answ==\"Y\") or (answ==\"y\")\n",
        "print(e)\n",
        "f= (answ==\"Y\") and (answ==\"y\")\n",
        "print(f)\n",
        "g= not(answ==\"y\")\n",
        "print(g)\n",
        "h= ((2<n) and n==5+1 or answ==\"No\" )\n",
        "print(h)\n",
        "i= ((n==2 and n==7 or answ==\"Y\" ))\n",
        "print(i)\n",
        "j=((n==2)and((n==7)or(answ==\"Y\")))\n",
        "print(j)"
      ],
      "execution_count": 61,
      "outputs": [
        {
          "output_type": "stream",
          "name": "stdout",
          "text": [
            "True\n",
            "True\n",
            "False\n",
            "False\n",
            "True\n",
            "False\n",
            "True\n",
            "False\n",
            "True\n",
            "False\n"
          ]
        }
      ]
    },
    {
      "cell_type": "markdown",
      "metadata": {
        "id": "UhIAMOPlIQSR"
      },
      "source": [
        "##Problem Statement 3"
      ]
    },
    {
      "cell_type": "code",
      "metadata": {
        "colab": {
          "base_uri": "https://localhost:8080/"
        },
        "id": "OXfb1vQd7y3R",
        "outputId": "8e806900-dc35-4d42-dbe3-a2a1aad00498"
      },
      "source": [
        "x=2\n",
        "y=-3\n",
        "w=7\n",
        "z=-10\n",
        "\n",
        "print(x/y)\n",
        "print(w/y/x)\n",
        "print(z/y%x)\n",
        "print(x%-y*w)\n",
        "print(x%y)\n",
        "print(z%w-y/x*5+5)\n",
        "print(9-x%(2+y))\n",
        "print(z//w)\n",
        "print((2+y)**2)\n",
        "print(w/x*2)"
      ],
      "execution_count": 20,
      "outputs": [
        {
          "output_type": "stream",
          "name": "stdout",
          "text": [
            "-0.6666666666666666\n",
            "-1.1666666666666667\n",
            "1.3333333333333335\n",
            "14\n",
            "-1\n",
            "16.5\n",
            "9\n",
            "-2\n",
            "1\n",
            "7.0\n"
          ]
        }
      ]
    }
  ]
}